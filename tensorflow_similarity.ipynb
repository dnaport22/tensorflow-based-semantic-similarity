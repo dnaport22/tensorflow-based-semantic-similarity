{
 "cells": [
  {
   "cell_type": "code",
   "execution_count": 2,
   "metadata": {},
   "outputs": [
    {
     "name": "stdout",
     "output_type": "stream",
     "text": [
      "INFO:tensorflow:Using /var/folders/kx/_79d_8t10wb9tw0c996plxxm0000gn/T/tfhub_modules to cache modules.\n",
      "INFO:tensorflow:Initialize variable module/Embeddings_en/sharded_0:0 from checkpoint b'/var/folders/kx/_79d_8t10wb9tw0c996plxxm0000gn/T/tfhub_modules/1fb57c3ffe1a38479233ee9853ddd7a8ac8a8c47/variables/variables' with Embeddings_en/sharded_0\n",
      "INFO:tensorflow:Initialize variable module/Embeddings_en/sharded_1:0 from checkpoint b'/var/folders/kx/_79d_8t10wb9tw0c996plxxm0000gn/T/tfhub_modules/1fb57c3ffe1a38479233ee9853ddd7a8ac8a8c47/variables/variables' with Embeddings_en/sharded_1\n",
      "INFO:tensorflow:Initialize variable module/Embeddings_en/sharded_10:0 from checkpoint b'/var/folders/kx/_79d_8t10wb9tw0c996plxxm0000gn/T/tfhub_modules/1fb57c3ffe1a38479233ee9853ddd7a8ac8a8c47/variables/variables' with Embeddings_en/sharded_10\n",
      "INFO:tensorflow:Initialize variable module/Embeddings_en/sharded_11:0 from checkpoint b'/var/folders/kx/_79d_8t10wb9tw0c996plxxm0000gn/T/tfhub_modules/1fb57c3ffe1a38479233ee9853ddd7a8ac8a8c47/variables/variables' with Embeddings_en/sharded_11\n",
      "INFO:tensorflow:Initialize variable module/Embeddings_en/sharded_12:0 from checkpoint b'/var/folders/kx/_79d_8t10wb9tw0c996plxxm0000gn/T/tfhub_modules/1fb57c3ffe1a38479233ee9853ddd7a8ac8a8c47/variables/variables' with Embeddings_en/sharded_12\n",
      "INFO:tensorflow:Initialize variable module/Embeddings_en/sharded_13:0 from checkpoint b'/var/folders/kx/_79d_8t10wb9tw0c996plxxm0000gn/T/tfhub_modules/1fb57c3ffe1a38479233ee9853ddd7a8ac8a8c47/variables/variables' with Embeddings_en/sharded_13\n",
      "INFO:tensorflow:Initialize variable module/Embeddings_en/sharded_14:0 from checkpoint b'/var/folders/kx/_79d_8t10wb9tw0c996plxxm0000gn/T/tfhub_modules/1fb57c3ffe1a38479233ee9853ddd7a8ac8a8c47/variables/variables' with Embeddings_en/sharded_14\n",
      "INFO:tensorflow:Initialize variable module/Embeddings_en/sharded_15:0 from checkpoint b'/var/folders/kx/_79d_8t10wb9tw0c996plxxm0000gn/T/tfhub_modules/1fb57c3ffe1a38479233ee9853ddd7a8ac8a8c47/variables/variables' with Embeddings_en/sharded_15\n",
      "INFO:tensorflow:Initialize variable module/Embeddings_en/sharded_16:0 from checkpoint b'/var/folders/kx/_79d_8t10wb9tw0c996plxxm0000gn/T/tfhub_modules/1fb57c3ffe1a38479233ee9853ddd7a8ac8a8c47/variables/variables' with Embeddings_en/sharded_16\n",
      "INFO:tensorflow:Initialize variable module/Embeddings_en/sharded_2:0 from checkpoint b'/var/folders/kx/_79d_8t10wb9tw0c996plxxm0000gn/T/tfhub_modules/1fb57c3ffe1a38479233ee9853ddd7a8ac8a8c47/variables/variables' with Embeddings_en/sharded_2\n",
      "INFO:tensorflow:Initialize variable module/Embeddings_en/sharded_3:0 from checkpoint b'/var/folders/kx/_79d_8t10wb9tw0c996plxxm0000gn/T/tfhub_modules/1fb57c3ffe1a38479233ee9853ddd7a8ac8a8c47/variables/variables' with Embeddings_en/sharded_3\n",
      "INFO:tensorflow:Initialize variable module/Embeddings_en/sharded_4:0 from checkpoint b'/var/folders/kx/_79d_8t10wb9tw0c996plxxm0000gn/T/tfhub_modules/1fb57c3ffe1a38479233ee9853ddd7a8ac8a8c47/variables/variables' with Embeddings_en/sharded_4\n",
      "INFO:tensorflow:Initialize variable module/Embeddings_en/sharded_5:0 from checkpoint b'/var/folders/kx/_79d_8t10wb9tw0c996plxxm0000gn/T/tfhub_modules/1fb57c3ffe1a38479233ee9853ddd7a8ac8a8c47/variables/variables' with Embeddings_en/sharded_5\n",
      "INFO:tensorflow:Initialize variable module/Embeddings_en/sharded_6:0 from checkpoint b'/var/folders/kx/_79d_8t10wb9tw0c996plxxm0000gn/T/tfhub_modules/1fb57c3ffe1a38479233ee9853ddd7a8ac8a8c47/variables/variables' with Embeddings_en/sharded_6\n",
      "INFO:tensorflow:Initialize variable module/Embeddings_en/sharded_7:0 from checkpoint b'/var/folders/kx/_79d_8t10wb9tw0c996plxxm0000gn/T/tfhub_modules/1fb57c3ffe1a38479233ee9853ddd7a8ac8a8c47/variables/variables' with Embeddings_en/sharded_7\n",
      "INFO:tensorflow:Initialize variable module/Embeddings_en/sharded_8:0 from checkpoint b'/var/folders/kx/_79d_8t10wb9tw0c996plxxm0000gn/T/tfhub_modules/1fb57c3ffe1a38479233ee9853ddd7a8ac8a8c47/variables/variables' with Embeddings_en/sharded_8\n",
      "INFO:tensorflow:Initialize variable module/Embeddings_en/sharded_9:0 from checkpoint b'/var/folders/kx/_79d_8t10wb9tw0c996plxxm0000gn/T/tfhub_modules/1fb57c3ffe1a38479233ee9853ddd7a8ac8a8c47/variables/variables' with Embeddings_en/sharded_9\n",
      "INFO:tensorflow:Initialize variable module/Encoder_en/DNN/ResidualHidden_0/weights:0 from checkpoint b'/var/folders/kx/_79d_8t10wb9tw0c996plxxm0000gn/T/tfhub_modules/1fb57c3ffe1a38479233ee9853ddd7a8ac8a8c47/variables/variables' with Encoder_en/DNN/ResidualHidden_0/weights\n",
      "INFO:tensorflow:Initialize variable module/Encoder_en/DNN/ResidualHidden_1/weights:0 from checkpoint b'/var/folders/kx/_79d_8t10wb9tw0c996plxxm0000gn/T/tfhub_modules/1fb57c3ffe1a38479233ee9853ddd7a8ac8a8c47/variables/variables' with Encoder_en/DNN/ResidualHidden_1/weights\n",
      "INFO:tensorflow:Initialize variable module/Encoder_en/DNN/ResidualHidden_2/weights:0 from checkpoint b'/var/folders/kx/_79d_8t10wb9tw0c996plxxm0000gn/T/tfhub_modules/1fb57c3ffe1a38479233ee9853ddd7a8ac8a8c47/variables/variables' with Encoder_en/DNN/ResidualHidden_2/weights\n",
      "INFO:tensorflow:Initialize variable module/Encoder_en/DNN/ResidualHidden_3/projection:0 from checkpoint b'/var/folders/kx/_79d_8t10wb9tw0c996plxxm0000gn/T/tfhub_modules/1fb57c3ffe1a38479233ee9853ddd7a8ac8a8c47/variables/variables' with Encoder_en/DNN/ResidualHidden_3/projection\n",
      "INFO:tensorflow:Initialize variable module/Encoder_en/DNN/ResidualHidden_3/weights:0 from checkpoint b'/var/folders/kx/_79d_8t10wb9tw0c996plxxm0000gn/T/tfhub_modules/1fb57c3ffe1a38479233ee9853ddd7a8ac8a8c47/variables/variables' with Encoder_en/DNN/ResidualHidden_3/weights\n",
      "INFO:tensorflow:Initialize variable module/SHARED_RANK_ANSWER/response_encoder_0/tanh_layer_0/bias:0 from checkpoint b'/var/folders/kx/_79d_8t10wb9tw0c996plxxm0000gn/T/tfhub_modules/1fb57c3ffe1a38479233ee9853ddd7a8ac8a8c47/variables/variables' with SHARED_RANK_ANSWER/response_encoder_0/tanh_layer_0/bias\n",
      "INFO:tensorflow:Initialize variable module/SHARED_RANK_ANSWER/response_encoder_0/tanh_layer_0/weights:0 from checkpoint b'/var/folders/kx/_79d_8t10wb9tw0c996plxxm0000gn/T/tfhub_modules/1fb57c3ffe1a38479233ee9853ddd7a8ac8a8c47/variables/variables' with SHARED_RANK_ANSWER/response_encoder_0/tanh_layer_0/weights\n",
      "INFO:tensorflow:Initialize variable module/SHARED_RANK_ANSWER/response_encoder_0/tanh_layer_1/bias:0 from checkpoint b'/var/folders/kx/_79d_8t10wb9tw0c996plxxm0000gn/T/tfhub_modules/1fb57c3ffe1a38479233ee9853ddd7a8ac8a8c47/variables/variables' with SHARED_RANK_ANSWER/response_encoder_0/tanh_layer_1/bias\n",
      "INFO:tensorflow:Initialize variable module/SHARED_RANK_ANSWER/response_encoder_0/tanh_layer_1/weights:0 from checkpoint b'/var/folders/kx/_79d_8t10wb9tw0c996plxxm0000gn/T/tfhub_modules/1fb57c3ffe1a38479233ee9853ddd7a8ac8a8c47/variables/variables' with SHARED_RANK_ANSWER/response_encoder_0/tanh_layer_1/weights\n",
      "INFO:tensorflow:Initialize variable module/SHARED_RANK_ANSWER/response_encoder_0/tanh_layer_2/bias:0 from checkpoint b'/var/folders/kx/_79d_8t10wb9tw0c996plxxm0000gn/T/tfhub_modules/1fb57c3ffe1a38479233ee9853ddd7a8ac8a8c47/variables/variables' with SHARED_RANK_ANSWER/response_encoder_0/tanh_layer_2/bias\n",
      "INFO:tensorflow:Initialize variable module/SHARED_RANK_ANSWER/response_encoder_0/tanh_layer_2/weights:0 from checkpoint b'/var/folders/kx/_79d_8t10wb9tw0c996plxxm0000gn/T/tfhub_modules/1fb57c3ffe1a38479233ee9853ddd7a8ac8a8c47/variables/variables' with SHARED_RANK_ANSWER/response_encoder_0/tanh_layer_2/weights\n",
      "INFO:tensorflow:Initialize variable module/SNLI/Classifier/LinearLayer/bias:0 from checkpoint b'/var/folders/kx/_79d_8t10wb9tw0c996plxxm0000gn/T/tfhub_modules/1fb57c3ffe1a38479233ee9853ddd7a8ac8a8c47/variables/variables' with SNLI/Classifier/LinearLayer/bias\n",
      "INFO:tensorflow:Initialize variable module/SNLI/Classifier/LinearLayer/weights:0 from checkpoint b'/var/folders/kx/_79d_8t10wb9tw0c996plxxm0000gn/T/tfhub_modules/1fb57c3ffe1a38479233ee9853ddd7a8ac8a8c47/variables/variables' with SNLI/Classifier/LinearLayer/weights\n",
      "INFO:tensorflow:Initialize variable module/SNLI/Classifier/tanh_layer_0/bias:0 from checkpoint b'/var/folders/kx/_79d_8t10wb9tw0c996plxxm0000gn/T/tfhub_modules/1fb57c3ffe1a38479233ee9853ddd7a8ac8a8c47/variables/variables' with SNLI/Classifier/tanh_layer_0/bias\n"
     ]
    },
    {
     "name": "stdout",
     "output_type": "stream",
     "text": [
      "INFO:tensorflow:Initialize variable module/SNLI/Classifier/tanh_layer_0/weights:0 from checkpoint b'/var/folders/kx/_79d_8t10wb9tw0c996plxxm0000gn/T/tfhub_modules/1fb57c3ffe1a38479233ee9853ddd7a8ac8a8c47/variables/variables' with SNLI/Classifier/tanh_layer_0/weights\n",
      "INFO:tensorflow:Initialize variable module/global_step:0 from checkpoint b'/var/folders/kx/_79d_8t10wb9tw0c996plxxm0000gn/T/tfhub_modules/1fb57c3ffe1a38479233ee9853ddd7a8ac8a8c47/variables/variables' with global_step\n"
     ]
    }
   ],
   "source": [
    "\"\"\"\n",
    "Using tensorflow to generate word embeddings and using nearest neighbour alorightm to find sentance similarity\n",
    "\"\"\"\n",
    "import tensorflow as tf\n",
    "import tensorflow_hub as hub\n",
    "import pickle\n",
    "from database import Database\n",
    "\n",
    "embedding_module_url = \"https://tfhub.dev/google/universal-sentence-encoder/2\"\n",
    "# This might take a while if running for the first time as it downloads the module and caches it for later use.\n",
    "embed = hub.Module(embedding_module_url)"
   ]
  },
  {
   "cell_type": "code",
   "execution_count": 3,
   "metadata": {},
   "outputs": [],
   "source": [
    "# Loading event data for model evaluation\n",
    "event_data = Database.get_instance().list_companies_by_event('ijl_18')\n",
    "event_data = [str(c['summary'])\n",
    "              .strip()\n",
    "              .lower()\n",
    "              .replace('\\r', '')\n",
    "              .replace('\\n', '')\n",
    "              for c in event_data if str(c['summary']).lower() != 'none']"
   ]
  },
  {
   "cell_type": "code",
   "execution_count": 4,
   "metadata": {},
   "outputs": [],
   "source": [
    "# Generating word embeddings for loaded event data\n",
    "def embedder(session_, input_tensor_, messages_, encoding_tensor):\n",
    "    embeddings = session_.run(\n",
    "        encoding_tensor, feed_dict={input_tensor_: messages_}\n",
    "    )\n",
    "    return embeddings\n",
    "\n",
    "similarity_input_placeholder = tf.placeholder(tf.string, shape=(None))\n",
    "similarity_message_encodings = embed(similarity_input_placeholder)\n",
    "with tf.Session() as session:\n",
    "    session.run(tf.global_variables_initializer())\n",
    "    session.run(tf.tables_initializer())\n",
    "    embeddings = embedder(session, similarity_input_placeholder, event_data,\n",
    "                          similarity_message_encodings)\n",
    "    with open('event_embeddings.bin', 'wb') as fl:\n",
    "        pickle.dump(embeddings, fl)"
   ]
  },
  {
   "cell_type": "code",
   "execution_count": 7,
   "metadata": {},
   "outputs": [
    {
     "name": "stdout",
     "output_type": "stream",
     "text": [
      "Company Description:  envi jewellery limited - manufacturer of 18k and platinum diamond and semi precious stone jewellery, specialising in making unique design jewellery to meet individual needs.\n",
      "Company Description:  silver designer jewellery with gemstonesgold designer jewellery with gemstones\n",
      "Company Description:  ro jewellery designed by karolis ro černeckis. it’s made of silver and gold using precious and semi-precious stones. each unique design passes through the hands of skilled jeweller – that is what makes this jewellery so elegant and special. simple yet timeless – it’s ro jewellery.\n",
      "Company Description:  fine jewellery in 18 kt. gold with diamonds and precious stones all made in italy\n",
      "Company Description:  our product range comprises of all kinds of jewellery items, such as bracelets, necklaces, rings, earrings, pendants, all of which are in plain gold or with cz, in 9,10,14 and 18 carat gold or 925 silver\n"
     ]
    }
   ],
   "source": [
    "from sklearn.neighbors import NearestNeighbors\n",
    "X = pickle.load(open('event_embeddings.bin', 'rb'))\n",
    "nbrs = NearestNeighbors(n_neighbors=2, algorithm='ball_tree').fit(X)\n",
    "\n",
    "# Relevant to the trained model context\n",
    "message = [\n",
    "    \"diamond jewellery\"\n",
    "]\n",
    "similarity_input_placeholder = tf.placeholder(tf.string, shape=(None))\n",
    "similarity_message_encodings = embed(similarity_input_placeholder)\n",
    "with tf.Session() as session:\n",
    "    session.run(tf.global_variables_initializer())\n",
    "    session.run(tf.tables_initializer())\n",
    "    y = embedder(session, similarity_input_placeholder, message,\n",
    "                 similarity_message_encodings)\n",
    "    distances, indices = nbrs.kneighbors(y, 5)\n",
    "    for i in range(len(indices[0])):\n",
    "        print('Company Description: ', event_data[indices[0][i]])"
   ]
  },
  {
   "cell_type": "code",
   "execution_count": 8,
   "metadata": {},
   "outputs": [
    {
     "name": "stdout",
     "output_type": "stream",
     "text": [
      "Company Description:  everybody at jewelmaster is committed to providing the best software to support your business. we listen to you to make sure that every change we make meets your needs. we update our software as often as is practical to keep you on top.\n",
      "Company Description:  freeform fabrication ltd a supplier of technology tools & services to jewellery designers & manufacturersmain products in our portfolio:\tsolidscape 3d printers\tlaser welders\tlaser engravers/markers\tsolutionix 3d scannersgeography: united kingdom, ireland, belgium, netherlands, luxemburga professional team to provide on-site tech\n",
      "Company Description:  with nearly 30 years of experience in developing artistic cad/cam software type3 presents 3design and 3shaper for the jewellery/accessory industry and typeedit and lasertype for the engraving industry.\n",
      "Company Description:  uk based watch distribution company - supplying on-line and bricks & mortar retailers in the uk, caribbean & alaska.\n",
      "Company Description:  a pioneer of ecommerce, we help retailers grow their business online. how? through our unrivalled platform coupled with our online marketing and support.\n"
     ]
    }
   ],
   "source": [
    "from sklearn.neighbors import NearestNeighbors\n",
    "X = pickle.load(open('event_embeddings.bin', 'rb'))\n",
    "nbrs = NearestNeighbors(n_neighbors=2, algorithm='ball_tree').fit(X)\n",
    "\n",
    "# Irrelevant to the trained model context\n",
    "message = [\n",
    "    \"microsoft windows\"\n",
    "]\n",
    "similarity_input_placeholder = tf.placeholder(tf.string, shape=(None))\n",
    "similarity_message_encodings = embed(similarity_input_placeholder)\n",
    "with tf.Session() as session:\n",
    "    session.run(tf.global_variables_initializer())\n",
    "    session.run(tf.tables_initializer())\n",
    "    y = embedder(session, similarity_input_placeholder, message,\n",
    "                 similarity_message_encodings)\n",
    "    distances, indices = nbrs.kneighbors(y, 5)\n",
    "    for i in range(len(indices[0])):\n",
    "        print('Company Description: ', event_data[indices[0][i]])"
   ]
  },
  {
   "cell_type": "code",
   "execution_count": null,
   "metadata": {},
   "outputs": [],
   "source": [
    "\"\"\"\n",
    "I couldn't find any recommended method to evaluate the performance of semantic similarity. \n",
    "What's different here in comparison traditional way of finding simantic similarity is robust word embeddings.\n",
    "We can take it for granted that this method provides somewhat accurate semantic sentence similairty just because\n",
    "the embeddings are generated using USE - Universal Sentence Encoding model is trained and optimized for \n",
    "greater-than-word length text, such as sentences, phrases or short paragraphs. It is trained on a variety of \n",
    "data sources and a variety of tasks with the aim of dynamically accommodating a wide variety of natural language \n",
    "understanding tasks.\n",
    "\"\"\""
   ]
  }
 ],
 "metadata": {
  "kernelspec": {
   "display_name": "Python 3",
   "language": "python",
   "name": "python3"
  },
  "language_info": {
   "codemirror_mode": {
    "name": "ipython",
    "version": 3
   },
   "file_extension": ".py",
   "mimetype": "text/x-python",
   "name": "python",
   "nbconvert_exporter": "python",
   "pygments_lexer": "ipython3",
   "version": "3.6.4"
  }
 },
 "nbformat": 4,
 "nbformat_minor": 2
}
